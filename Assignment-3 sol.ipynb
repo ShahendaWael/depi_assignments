{
 "cells": [
  {
   "cell_type": "code",
   "execution_count": 1,
   "id": "7c721514-16c2-45fd-8ece-c55b291924c8",
   "metadata": {},
   "outputs": [
    {
     "name": "stdout",
     "output_type": "stream",
     "text": [
      "3\n"
     ]
    }
   ],
   "source": [
    "def count_vowels(text):\n",
    "    vowels = set(\"aeiouAEIOU\")\n",
    "    return sum(1 for char in text if char in vowels)\n",
    "text = \"Hello World\"\n",
    "print(count_vowels(text)) "
   ]
  },
  {
   "cell_type": "code",
   "execution_count": null,
   "id": "25e36e88-1df5-4899-b4d8-7018b3897dd4",
   "metadata": {},
   "outputs": [],
   "source": [
    "def find_max(numbers):\n",
    "    if not numbers:\n",
    "        return None\n",
    "    max_value = numbers[0]\n",
    "    for num in numbers:\n",
    "        if num > max_value:\n",
    "            max_value = num\n",
    "    return max_value\n",
    "numbers = [3, 5, 2, 8, 1]\n",
    "print(find_max(numbers))  \n"
   ]
  }
 ],
 "metadata": {
  "kernelspec": {
   "display_name": "Python 3 (ipykernel)",
   "language": "python",
   "name": "python3"
  },
  "language_info": {
   "codemirror_mode": {
    "name": "ipython",
    "version": 3
   },
   "file_extension": ".py",
   "mimetype": "text/x-python",
   "name": "python",
   "nbconvert_exporter": "python",
   "pygments_lexer": "ipython3",
   "version": "3.12.7"
  }
 },
 "nbformat": 4,
 "nbformat_minor": 5
}
