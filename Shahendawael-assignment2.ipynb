{
 "cells": [
  {
   "cell_type": "code",
   "execution_count": 16,
   "id": "8e811241-8ddf-4b56-9bda-f0b78400b3cd",
   "metadata": {},
   "outputs": [
    {
     "name": "stdout",
     "output_type": "stream",
     "text": [
      "the list is:[0, 1, 2, 3, 4, 5, 6, 7, 8, 9]\n"
     ]
    }
   ],
   "source": [
    "list1 = [3, 2,4, 6]\n",
    "list2 = [1, 9, 0,5,8,7]\n",
    "merged_list = list1 + list2\n",
    "\n",
    "n = len(merged_list)\n",
    "for i in range(n):\n",
    "    for j in range(0, n - i - 1):\n",
    "        if merged_list[j] > merged_list[j + 1]:\n",
    "            # Swap if the element found is greater than the next element\n",
    "            merged_list[j], merged_list[j + 1] = merged_list[j + 1], merged_list[j]\n",
    "\n",
    "\n",
    "print(f'the list is:{merged_list}')\n",
    "\n"
   ]
  },
  {
   "cell_type": "code",
   "execution_count": 18,
   "id": "8b344502-f26b-49a9-8694-5402ea6b638f",
   "metadata": {},
   "outputs": [
    {
     "name": "stdout",
     "output_type": "stream",
     "text": [
      " aaabbbccc\n"
     ]
    }
   ],
   "source": [
    "\n",
    "s = \"abc\"\n",
    "n = 3\n",
    "result= \" \"\n",
    "for char in  s :\n",
    "  result+= char* n\n",
    "print (result)\n"
   ]
  },
  {
   "cell_type": "code",
   "execution_count": null,
   "id": "da6f8206-2ff5-44d7-9262-a5f4f4571500",
   "metadata": {},
   "outputs": [],
   "source": []
  }
 ],
 "metadata": {
  "kernelspec": {
   "display_name": "Python 3 (ipykernel)",
   "language": "python",
   "name": "python3"
  },
  "language_info": {
   "codemirror_mode": {
    "name": "ipython",
    "version": 3
   },
   "file_extension": ".py",
   "mimetype": "text/x-python",
   "name": "python",
   "nbconvert_exporter": "python",
   "pygments_lexer": "ipython3",
   "version": "3.12.7"
  }
 },
 "nbformat": 4,
 "nbformat_minor": 5
}
